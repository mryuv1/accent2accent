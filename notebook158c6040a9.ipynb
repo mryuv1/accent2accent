{
 "cells": [
  {
   "cell_type": "code",
   "execution_count": 1,
   "id": "b709143e",
   "metadata": {
    "_cell_guid": "95f5f7c7-4944-413c-9014-87e12c019236",
    "_uuid": "826d90dd-307d-4651-92bd-2af8f36aa33d",
    "collapsed": false,
    "execution": {
     "iopub.execute_input": "2024-08-21T15:49:10.506998Z",
     "iopub.status.busy": "2024-08-21T15:49:10.506521Z",
     "iopub.status.idle": "2024-08-21T15:49:11.397670Z",
     "shell.execute_reply": "2024-08-21T15:49:11.396396Z"
    },
    "jupyter": {
     "outputs_hidden": false
    },
    "papermill": {
     "duration": 0.900958,
     "end_time": "2024-08-21T15:49:11.400739",
     "exception": false,
     "start_time": "2024-08-21T15:49:10.499781",
     "status": "completed"
    },
    "tags": []
   },
   "outputs": [
    {
     "name": "stdout",
     "output_type": "stream",
     "text": [
      "/kaggle/input/digit-recognizer/sample_submission.csv\n",
      "/kaggle/input/digit-recognizer/train.csv\n",
      "/kaggle/input/digit-recognizer/test.csv\n"
     ]
    }
   ],
   "source": [
    "# This Python 3 environment comes with many helpful analytics libraries installed\n",
    "# It is defined by the kaggle/python Docker image: https://github.com/kaggle/docker-python\n",
    "# For example, here's several helpful packages to load\n",
    "\n",
    "import numpy as np # linear algebra\n",
    "import pandas as pd # data processing, CSV file I/O (e.g. pd.read_csv)\n",
    "\n",
    "# Input data files are available in the read-only \"../input/\" directory\n",
    "# For example, running this (by clicking run or pressing Shift+Enter) will list all files under the input directory\n",
    "\n",
    "import os\n",
    "for dirname, _, filenames in os.walk('/kaggle/input'):\n",
    "    for filename in filenames:\n",
    "        print(os.path.join(dirname, filename))\n",
    "\n",
    "# You can write up to 20GB to the current directory (/kaggle/working/) that gets preserved as output when you create a version using \"Save & Run All\" \n",
    "# You can also write temporary files to /kaggle/temp/, but they won't be saved outside of the current session"
   ]
  },
  {
   "cell_type": "code",
   "execution_count": 2,
   "id": "85d3349b",
   "metadata": {
    "_cell_guid": "2b717abc-5d11-489d-8e71-ccaab3e8350f",
    "_uuid": "ca7b4525-8ac8-4684-8f22-eb80b9516613",
    "collapsed": false,
    "execution": {
     "iopub.execute_input": "2024-08-21T15:49:11.412697Z",
     "iopub.status.busy": "2024-08-21T15:49:11.411765Z",
     "iopub.status.idle": "2024-08-21T15:49:21.931397Z",
     "shell.execute_reply": "2024-08-21T15:49:21.930370Z"
    },
    "jupyter": {
     "outputs_hidden": false
    },
    "papermill": {
     "duration": 10.528498,
     "end_time": "2024-08-21T15:49:21.934261",
     "exception": false,
     "start_time": "2024-08-21T15:49:11.405763",
     "status": "completed"
    },
    "tags": []
   },
   "outputs": [],
   "source": [
    "import numpy as np\n",
    "import pandas as pd \n",
    "\n",
    "import matplotlib.pyplot as plt\n",
    "import torch\n",
    "import torch.nn as nn\n",
    "import torch.nn.functional as F\n",
    "from torch.utils.data import DataLoader, Dataset\n",
    "from torchvision import transforms\n",
    "import torch.optim as optim\n",
    "from sklearn.model_selection import train_test_split\n",
    "from pytorch_lightning import LightningModule, Trainer\n",
    "import torchmetrics"
   ]
  },
  {
   "cell_type": "code",
   "execution_count": 3,
   "id": "e04f9abc",
   "metadata": {
    "_cell_guid": "a7bb8c0a-8217-4cc8-af40-78f9af5782df",
    "_uuid": "0530b224-bce0-4be6-bee2-d10355745ac7",
    "collapsed": false,
    "execution": {
     "iopub.execute_input": "2024-08-21T15:49:21.945704Z",
     "iopub.status.busy": "2024-08-21T15:49:21.944575Z",
     "iopub.status.idle": "2024-08-21T15:49:29.067902Z",
     "shell.execute_reply": "2024-08-21T15:49:29.066624Z"
    },
    "jupyter": {
     "outputs_hidden": false
    },
    "papermill": {
     "duration": 7.132004,
     "end_time": "2024-08-21T15:49:29.070866",
     "exception": false,
     "start_time": "2024-08-21T15:49:21.938862",
     "status": "completed"
    },
    "tags": []
   },
   "outputs": [
    {
     "name": "stdout",
     "output_type": "stream",
     "text": [
      "   pixel0  pixel1  pixel2  pixel3  pixel4  pixel5  pixel6  pixel7  pixel8  \\\n",
      "0       0       0       0       0       0       0       0       0       0   \n",
      "1       0       0       0       0       0       0       0       0       0   \n",
      "2       0       0       0       0       0       0       0       0       0   \n",
      "3       0       0       0       0       0       0       0       0       0   \n",
      "4       0       0       0       0       0       0       0       0       0   \n",
      "\n",
      "   pixel9  ...  pixel774  pixel775  pixel776  pixel777  pixel778  pixel779  \\\n",
      "0       0  ...         0         0         0         0         0         0   \n",
      "1       0  ...         0         0         0         0         0         0   \n",
      "2       0  ...         0         0         0         0         0         0   \n",
      "3       0  ...         0         0         0         0         0         0   \n",
      "4       0  ...         0         0         0         0         0         0   \n",
      "\n",
      "   pixel780  pixel781  pixel782  pixel783  \n",
      "0         0         0         0         0  \n",
      "1         0         0         0         0  \n",
      "2         0         0         0         0  \n",
      "3         0         0         0         0  \n",
      "4         0         0         0         0  \n",
      "\n",
      "[5 rows x 784 columns]\n"
     ]
    }
   ],
   "source": [
    "data = pd.read_csv(\"/kaggle/input/digit-recognizer/train.csv\")\n",
    "test_df = pd.read_csv(\"/kaggle/input/digit-recognizer/test.csv\")\n",
    "print(test_df.head())"
   ]
  },
  {
   "cell_type": "code",
   "execution_count": 4,
   "id": "ac0ae394",
   "metadata": {
    "_cell_guid": "2097581b-6868-478a-b15b-37e7fc0960d1",
    "_uuid": "54561a83-17c4-4fd1-9758-eb59667a53a5",
    "collapsed": false,
    "execution": {
     "iopub.execute_input": "2024-08-21T15:49:29.082713Z",
     "iopub.status.busy": "2024-08-21T15:49:29.082292Z",
     "iopub.status.idle": "2024-08-21T15:49:29.338265Z",
     "shell.execute_reply": "2024-08-21T15:49:29.336752Z"
    },
    "jupyter": {
     "outputs_hidden": false
    },
    "papermill": {
     "duration": 0.265312,
     "end_time": "2024-08-21T15:49:29.341095",
     "exception": false,
     "start_time": "2024-08-21T15:49:29.075783",
     "status": "completed"
    },
    "tags": []
   },
   "outputs": [],
   "source": [
    "data_len, pixels = data.shape\n",
    "labels = data['label']\n",
    "X = data.drop('label', axis=1).values\n",
    "Y = pd.get_dummies(labels.values).values\n",
    "#Converting the Data into 28x28 matrix\n",
    "X = X.reshape(-1, 28, 28, 1).astype('float32') / 255.0\n",
    "X_test = test_df.values.reshape(-1, 28, 28, 1).astype('float32') / 255.0"
   ]
  },
  {
   "cell_type": "code",
   "execution_count": 5,
   "id": "5dcf2a4d",
   "metadata": {
    "_cell_guid": "5b0a2676-45f4-4cac-9012-34e6f491630f",
    "_uuid": "d01c5de5-5620-4f3e-9421-20668af83d74",
    "collapsed": false,
    "execution": {
     "iopub.execute_input": "2024-08-21T15:49:29.352499Z",
     "iopub.status.busy": "2024-08-21T15:49:29.352095Z",
     "iopub.status.idle": "2024-08-21T15:49:29.408356Z",
     "shell.execute_reply": "2024-08-21T15:49:29.407192Z"
    },
    "jupyter": {
     "outputs_hidden": false
    },
    "papermill": {
     "duration": 0.065032,
     "end_time": "2024-08-21T15:49:29.411015",
     "exception": false,
     "start_time": "2024-08-21T15:49:29.345983",
     "status": "completed"
    },
    "tags": []
   },
   "outputs": [],
   "source": [
    "# For the test set\n",
    "X_test = test_df.values.reshape(-1, 28, 28, 1).astype('float32') / 255.0\n"
   ]
  },
  {
   "cell_type": "code",
   "execution_count": 6,
   "id": "fe2ff82f",
   "metadata": {
    "execution": {
     "iopub.execute_input": "2024-08-21T15:49:29.422229Z",
     "iopub.status.busy": "2024-08-21T15:49:29.421844Z",
     "iopub.status.idle": "2024-08-21T15:49:29.433344Z",
     "shell.execute_reply": "2024-08-21T15:49:29.432260Z"
    },
    "papermill": {
     "duration": 0.020192,
     "end_time": "2024-08-21T15:49:29.436015",
     "exception": false,
     "start_time": "2024-08-21T15:49:29.415823",
     "status": "completed"
    },
    "tags": []
   },
   "outputs": [],
   "source": [
    "class CNN(nn.Module):\n",
    "    def __init__(self):\n",
    "        super(CNN, self).__init__()\n",
    "        self.cnn = nn.Sequential(\n",
    "            nn.Conv2d(1, 32, 3, 1),\n",
    "            nn.ReLU(),\n",
    "            nn.MaxPool2d(2),\n",
    "            nn.Conv2d(32, 64, 3, 1),\n",
    "            nn.ReLU(),\n",
    "            nn.MaxPool2d(2),\n",
    "            nn.Flatten(),\n",
    "            nn.Linear(64 * 5 * 5, 128),\n",
    "            nn.ReLU(),\n",
    "            nn.Linear(128, 10)\n",
    "        )\n",
    "\n",
    "    def forward(self, x):\n",
    "        return self.cnn(x)\n",
    "    \n",
    "class DigitDataset(Dataset):\n",
    "    def __init__(self, X, Y):\n",
    "        self.X = torch.tensor(X, dtype=torch.float32).permute(0, 3, 1, 2)  # Convert to NCHW format\n",
    "        self.Y = torch.tensor(Y, dtype=torch.float32)\n",
    "\n",
    "    def __len__(self):\n",
    "        return len(self.X)\n",
    "\n",
    "    def __getitem__(self, idx):\n",
    "        return self.X[idx], self.Y[idx]"
   ]
  },
  {
   "cell_type": "code",
   "execution_count": 7,
   "id": "94aa28f7",
   "metadata": {
    "execution": {
     "iopub.execute_input": "2024-08-21T15:49:29.447403Z",
     "iopub.status.busy": "2024-08-21T15:49:29.447009Z",
     "iopub.status.idle": "2024-08-21T15:49:29.458624Z",
     "shell.execute_reply": "2024-08-21T15:49:29.457550Z"
    },
    "papermill": {
     "duration": 0.020373,
     "end_time": "2024-08-21T15:49:29.461222",
     "exception": false,
     "start_time": "2024-08-21T15:49:29.440849",
     "status": "completed"
    },
    "tags": []
   },
   "outputs": [],
   "source": [
    "#Define Pytorch lightning model to train\n",
    "class LitModel(LightningModule):\n",
    "    def __init__(self):\n",
    "        super().__init__()\n",
    "        self.model = CNN()\n",
    "        self.loss = nn.CrossEntropyLoss()\n",
    "        self.accuracy = torchmetrics.Accuracy(task=\"multiclass\", num_classes=10)\n",
    "        \n",
    "    def forward(self,x):\n",
    "        return self.model(x)\n",
    "    \n",
    "    def training_step(self, batch, batch_idx):\n",
    "        x, y = batch\n",
    "        y_hat = self.model(x)\n",
    "        loss = self.loss(y_hat, y.argmax(dim=1))  # Use argmax for multi-class labels\n",
    "        acc = self.accuracy(y_hat, y.argmax(dim=1))\n",
    "        self.log('train_loss', loss, prog_bar=True)\n",
    "        self.log('train_acc', acc, prog_bar=True)\n",
    "        return loss\n",
    "\n",
    "#     def validation_step(self, batch, batch_idx):\n",
    "#         x, y = batch\n",
    "#         y_hat = self.model(x)\n",
    "#         loss = self.loss(y_hat, y.argmax(dim=1))\n",
    "#         acc = self.accuracy(y_hat, y.argmax(dim=1))\n",
    "#         self.log('val_loss', loss, prog_bar=True)\n",
    "#         self.log('val_acc', acc, prog_bar=True)\n",
    "#         return loss\n",
    "\n",
    "    def configure_optimizers(self):\n",
    "        return optim.Adam(self.parameters(), lr=0.001)\n",
    "\n",
    "    def train_dataloader(self):\n",
    "        train_dataset = DigitDataset(X, Y)\n",
    "        return DataLoader(train_dataset, batch_size=128, shuffle=True)\n",
    "\n",
    "#     def val_dataloader(self):\n",
    "#         val_dataset = DigitDataset(X_val, Y_val)\n",
    "#         return DataLoader(val_dataset, batch_size=32)"
   ]
  },
  {
   "cell_type": "code",
   "execution_count": 8,
   "id": "4b0d57b0",
   "metadata": {
    "execution": {
     "iopub.execute_input": "2024-08-21T15:49:29.472523Z",
     "iopub.status.busy": "2024-08-21T15:49:29.472134Z",
     "iopub.status.idle": "2024-08-21T15:53:20.924303Z",
     "shell.execute_reply": "2024-08-21T15:53:20.922956Z"
    },
    "papermill": {
     "duration": 231.461276,
     "end_time": "2024-08-21T15:53:20.927335",
     "exception": false,
     "start_time": "2024-08-21T15:49:29.466059",
     "status": "completed"
    },
    "tags": []
   },
   "outputs": [
    {
     "name": "stderr",
     "output_type": "stream",
     "text": [
      "2024-08-21 15:49:32.543571: E external/local_xla/xla/stream_executor/cuda/cuda_dnn.cc:9261] Unable to register cuDNN factory: Attempting to register factory for plugin cuDNN when one has already been registered\n",
      "2024-08-21 15:49:32.543727: E external/local_xla/xla/stream_executor/cuda/cuda_fft.cc:607] Unable to register cuFFT factory: Attempting to register factory for plugin cuFFT when one has already been registered\n",
      "2024-08-21 15:49:32.725331: E external/local_xla/xla/stream_executor/cuda/cuda_blas.cc:1515] Unable to register cuBLAS factory: Attempting to register factory for plugin cuBLAS when one has already been registered\n",
      "/opt/conda/lib/python3.10/site-packages/pytorch_lightning/trainer/connectors/data_connector.py:424: The 'train_dataloader' does not have many workers which may be a bottleneck. Consider increasing the value of the `num_workers` argument` to `num_workers=3` in the `DataLoader` to improve performance.\n"
     ]
    },
    {
     "data": {
      "application/vnd.jupyter.widget-view+json": {
       "model_id": "fc9467b25eb54f94833cd0a9b17d91fe",
       "version_major": 2,
       "version_minor": 0
      },
      "text/plain": [
       "Training: |          | 0/? [00:00<?, ?it/s]"
      ]
     },
     "metadata": {},
     "output_type": "display_data"
    }
   ],
   "source": [
    "# Train the model using PyTorch Lightning's Trainer\n",
    "model = LitModel()\n",
    "trainer = Trainer(max_epochs=10)\n",
    "trainer.fit(model)"
   ]
  },
  {
   "cell_type": "code",
   "execution_count": 9,
   "id": "c58d9832",
   "metadata": {
    "execution": {
     "iopub.execute_input": "2024-08-21T15:53:20.939937Z",
     "iopub.status.busy": "2024-08-21T15:53:20.939508Z",
     "iopub.status.idle": "2024-08-21T15:53:32.150278Z",
     "shell.execute_reply": "2024-08-21T15:53:32.148667Z"
    },
    "papermill": {
     "duration": 11.220239,
     "end_time": "2024-08-21T15:53:32.152906",
     "exception": false,
     "start_time": "2024-08-21T15:53:20.932667",
     "status": "completed"
    },
    "tags": []
   },
   "outputs": [
    {
     "name": "stdout",
     "output_type": "stream",
     "text": [
      "[2 0 9 ... 3 9 2]\n"
     ]
    }
   ],
   "source": [
    "#Test on the test data\n",
    "model.eval()\n",
    "test_preds = model(torch.tensor(X_test).permute(0,3,1,2))\n",
    "test_preds = test_preds.argmax(dim=1).numpy()\n",
    "\n",
    "print(test_preds)"
   ]
  }
 ],
 "metadata": {
  "kaggle": {
   "accelerator": "none",
   "dataSources": [
    {
     "databundleVersionId": 861823,
     "sourceId": 3004,
     "sourceType": "competition"
    }
   ],
   "dockerImageVersionId": 30746,
   "isGpuEnabled": false,
   "isInternetEnabled": false,
   "language": "python",
   "sourceType": "notebook"
  },
  "kernelspec": {
   "display_name": "Python 3",
   "language": "python",
   "name": "python3"
  },
  "language_info": {
   "codemirror_mode": {
    "name": "ipython",
    "version": 3
   },
   "file_extension": ".py",
   "mimetype": "text/x-python",
   "name": "python",
   "nbconvert_exporter": "python",
   "pygments_lexer": "ipython3",
   "version": "3.10.13"
  },
  "papermill": {
   "default_parameters": {},
   "duration": 267.289188,
   "end_time": "2024-08-21T15:53:34.771185",
   "environment_variables": {},
   "exception": null,
   "input_path": "__notebook__.ipynb",
   "output_path": "__notebook__.ipynb",
   "parameters": {},
   "start_time": "2024-08-21T15:49:07.481997",
   "version": "2.5.0"
  },
  "widgets": {
   "application/vnd.jupyter.widget-state+json": {
    "state": {
     "09369ddeaf2b4b288750036c07113f9d": {
      "model_module": "@jupyter-widgets/controls",
      "model_module_version": "1.5.0",
      "model_name": "ProgressStyleModel",
      "state": {
       "_model_module": "@jupyter-widgets/controls",
       "_model_module_version": "1.5.0",
       "_model_name": "ProgressStyleModel",
       "_view_count": null,
       "_view_module": "@jupyter-widgets/base",
       "_view_module_version": "1.2.0",
       "_view_name": "StyleView",
       "bar_color": null,
       "description_width": ""
      }
     },
     "284acb18889c46a7ab211a92bf4619d1": {
      "model_module": "@jupyter-widgets/base",
      "model_module_version": "1.2.0",
      "model_name": "LayoutModel",
      "state": {
       "_model_module": "@jupyter-widgets/base",
       "_model_module_version": "1.2.0",
       "_model_name": "LayoutModel",
       "_view_count": null,
       "_view_module": "@jupyter-widgets/base",
       "_view_module_version": "1.2.0",
       "_view_name": "LayoutView",
       "align_content": null,
       "align_items": null,
       "align_self": null,
       "border": null,
       "bottom": null,
       "display": null,
       "flex": null,
       "flex_flow": null,
       "grid_area": null,
       "grid_auto_columns": null,
       "grid_auto_flow": null,
       "grid_auto_rows": null,
       "grid_column": null,
       "grid_gap": null,
       "grid_row": null,
       "grid_template_areas": null,
       "grid_template_columns": null,
       "grid_template_rows": null,
       "height": null,
       "justify_content": null,
       "justify_items": null,
       "left": null,
       "margin": null,
       "max_height": null,
       "max_width": null,
       "min_height": null,
       "min_width": null,
       "object_fit": null,
       "object_position": null,
       "order": null,
       "overflow": null,
       "overflow_x": null,
       "overflow_y": null,
       "padding": null,
       "right": null,
       "top": null,
       "visibility": null,
       "width": null
      }
     },
     "2f48caacee4a4e5ab286a4b432849c7f": {
      "model_module": "@jupyter-widgets/controls",
      "model_module_version": "1.5.0",
      "model_name": "HTMLModel",
      "state": {
       "_dom_classes": [],
       "_model_module": "@jupyter-widgets/controls",
       "_model_module_version": "1.5.0",
       "_model_name": "HTMLModel",
       "_view_count": null,
       "_view_module": "@jupyter-widgets/controls",
       "_view_module_version": "1.5.0",
       "_view_name": "HTMLView",
       "description": "",
       "description_tooltip": null,
       "layout": "IPY_MODEL_284acb18889c46a7ab211a92bf4619d1",
       "placeholder": "​",
       "style": "IPY_MODEL_2f94eacd0b9844f18d3ab2df13372b6f",
       "value": "Epoch 9: 100%"
      }
     },
     "2f94eacd0b9844f18d3ab2df13372b6f": {
      "model_module": "@jupyter-widgets/controls",
      "model_module_version": "1.5.0",
      "model_name": "DescriptionStyleModel",
      "state": {
       "_model_module": "@jupyter-widgets/controls",
       "_model_module_version": "1.5.0",
       "_model_name": "DescriptionStyleModel",
       "_view_count": null,
       "_view_module": "@jupyter-widgets/base",
       "_view_module_version": "1.2.0",
       "_view_name": "StyleView",
       "description_width": ""
      }
     },
     "34009f7b03984f6cada69d06ce5319e8": {
      "model_module": "@jupyter-widgets/base",
      "model_module_version": "1.2.0",
      "model_name": "LayoutModel",
      "state": {
       "_model_module": "@jupyter-widgets/base",
       "_model_module_version": "1.2.0",
       "_model_name": "LayoutModel",
       "_view_count": null,
       "_view_module": "@jupyter-widgets/base",
       "_view_module_version": "1.2.0",
       "_view_name": "LayoutView",
       "align_content": null,
       "align_items": null,
       "align_self": null,
       "border": null,
       "bottom": null,
       "display": null,
       "flex": null,
       "flex_flow": null,
       "grid_area": null,
       "grid_auto_columns": null,
       "grid_auto_flow": null,
       "grid_auto_rows": null,
       "grid_column": null,
       "grid_gap": null,
       "grid_row": null,
       "grid_template_areas": null,
       "grid_template_columns": null,
       "grid_template_rows": null,
       "height": null,
       "justify_content": null,
       "justify_items": null,
       "left": null,
       "margin": null,
       "max_height": null,
       "max_width": null,
       "min_height": null,
       "min_width": null,
       "object_fit": null,
       "object_position": null,
       "order": null,
       "overflow": null,
       "overflow_x": null,
       "overflow_y": null,
       "padding": null,
       "right": null,
       "top": null,
       "visibility": null,
       "width": null
      }
     },
     "34e0bf29db1446318e2d5219945ea705": {
      "model_module": "@jupyter-widgets/base",
      "model_module_version": "1.2.0",
      "model_name": "LayoutModel",
      "state": {
       "_model_module": "@jupyter-widgets/base",
       "_model_module_version": "1.2.0",
       "_model_name": "LayoutModel",
       "_view_count": null,
       "_view_module": "@jupyter-widgets/base",
       "_view_module_version": "1.2.0",
       "_view_name": "LayoutView",
       "align_content": null,
       "align_items": null,
       "align_self": null,
       "border": null,
       "bottom": null,
       "display": null,
       "flex": "2",
       "flex_flow": null,
       "grid_area": null,
       "grid_auto_columns": null,
       "grid_auto_flow": null,
       "grid_auto_rows": null,
       "grid_column": null,
       "grid_gap": null,
       "grid_row": null,
       "grid_template_areas": null,
       "grid_template_columns": null,
       "grid_template_rows": null,
       "height": null,
       "justify_content": null,
       "justify_items": null,
       "left": null,
       "margin": null,
       "max_height": null,
       "max_width": null,
       "min_height": null,
       "min_width": null,
       "object_fit": null,
       "object_position": null,
       "order": null,
       "overflow": null,
       "overflow_x": null,
       "overflow_y": null,
       "padding": null,
       "right": null,
       "top": null,
       "visibility": null,
       "width": null
      }
     },
     "4ccbf28293804cf9a02c46d4c2a72891": {
      "model_module": "@jupyter-widgets/base",
      "model_module_version": "1.2.0",
      "model_name": "LayoutModel",
      "state": {
       "_model_module": "@jupyter-widgets/base",
       "_model_module_version": "1.2.0",
       "_model_name": "LayoutModel",
       "_view_count": null,
       "_view_module": "@jupyter-widgets/base",
       "_view_module_version": "1.2.0",
       "_view_name": "LayoutView",
       "align_content": null,
       "align_items": null,
       "align_self": null,
       "border": null,
       "bottom": null,
       "display": "inline-flex",
       "flex": null,
       "flex_flow": "row wrap",
       "grid_area": null,
       "grid_auto_columns": null,
       "grid_auto_flow": null,
       "grid_auto_rows": null,
       "grid_column": null,
       "grid_gap": null,
       "grid_row": null,
       "grid_template_areas": null,
       "grid_template_columns": null,
       "grid_template_rows": null,
       "height": null,
       "justify_content": null,
       "justify_items": null,
       "left": null,
       "margin": null,
       "max_height": null,
       "max_width": null,
       "min_height": null,
       "min_width": null,
       "object_fit": null,
       "object_position": null,
       "order": null,
       "overflow": null,
       "overflow_x": null,
       "overflow_y": null,
       "padding": null,
       "right": null,
       "top": null,
       "visibility": null,
       "width": "100%"
      }
     },
     "6df853aed339415aa4f9cdcda01487f0": {
      "model_module": "@jupyter-widgets/controls",
      "model_module_version": "1.5.0",
      "model_name": "DescriptionStyleModel",
      "state": {
       "_model_module": "@jupyter-widgets/controls",
       "_model_module_version": "1.5.0",
       "_model_name": "DescriptionStyleModel",
       "_view_count": null,
       "_view_module": "@jupyter-widgets/base",
       "_view_module_version": "1.2.0",
       "_view_name": "StyleView",
       "description_width": ""
      }
     },
     "a01ac6e5a780414784621ce180916eb7": {
      "model_module": "@jupyter-widgets/controls",
      "model_module_version": "1.5.0",
      "model_name": "HTMLModel",
      "state": {
       "_dom_classes": [],
       "_model_module": "@jupyter-widgets/controls",
       "_model_module_version": "1.5.0",
       "_model_name": "HTMLModel",
       "_view_count": null,
       "_view_module": "@jupyter-widgets/controls",
       "_view_module_version": "1.5.0",
       "_view_name": "HTMLView",
       "description": "",
       "description_tooltip": null,
       "layout": "IPY_MODEL_34009f7b03984f6cada69d06ce5319e8",
       "placeholder": "​",
       "style": "IPY_MODEL_6df853aed339415aa4f9cdcda01487f0",
       "value": " 329/329 [00:21&lt;00:00, 15.28it/s, v_num=0, train_loss=0.00705, train_acc=1.000]"
      }
     },
     "e5648fcb617b4af099e53b8eb7c1810b": {
      "model_module": "@jupyter-widgets/controls",
      "model_module_version": "1.5.0",
      "model_name": "FloatProgressModel",
      "state": {
       "_dom_classes": [],
       "_model_module": "@jupyter-widgets/controls",
       "_model_module_version": "1.5.0",
       "_model_name": "FloatProgressModel",
       "_view_count": null,
       "_view_module": "@jupyter-widgets/controls",
       "_view_module_version": "1.5.0",
       "_view_name": "ProgressView",
       "bar_style": "success",
       "description": "",
       "description_tooltip": null,
       "layout": "IPY_MODEL_34e0bf29db1446318e2d5219945ea705",
       "max": 329.0,
       "min": 0.0,
       "orientation": "horizontal",
       "style": "IPY_MODEL_09369ddeaf2b4b288750036c07113f9d",
       "value": 329.0
      }
     },
     "fc9467b25eb54f94833cd0a9b17d91fe": {
      "model_module": "@jupyter-widgets/controls",
      "model_module_version": "1.5.0",
      "model_name": "HBoxModel",
      "state": {
       "_dom_classes": [],
       "_model_module": "@jupyter-widgets/controls",
       "_model_module_version": "1.5.0",
       "_model_name": "HBoxModel",
       "_view_count": null,
       "_view_module": "@jupyter-widgets/controls",
       "_view_module_version": "1.5.0",
       "_view_name": "HBoxView",
       "box_style": "",
       "children": [
        "IPY_MODEL_2f48caacee4a4e5ab286a4b432849c7f",
        "IPY_MODEL_e5648fcb617b4af099e53b8eb7c1810b",
        "IPY_MODEL_a01ac6e5a780414784621ce180916eb7"
       ],
       "layout": "IPY_MODEL_4ccbf28293804cf9a02c46d4c2a72891"
      }
     }
    },
    "version_major": 2,
    "version_minor": 0
   }
  }
 },
 "nbformat": 4,
 "nbformat_minor": 5
}
